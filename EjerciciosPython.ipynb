{
 "cells": [
  {
   "cell_type": "code",
   "execution_count": null,
   "metadata": {},
   "outputs": [
    {
     "name": "stdout",
     "output_type": "stream",
     "text": [
      "Su multiplicacion es: 5088\n"
     ]
    }
   ],
   "source": [
    "# EJERCICIO 1. Dados dos números enteros almacenados en dos variables, imprime su producto solo si el producto es mayor que 1000. Si el producto es menor a 1000, imprime su suma.\n",
    "Nvidia = np.random.randint(low= 10, high = 100)\n",
    "Amd = np.random.randint(low= 10, high = 100)\n",
    "\n",
    "\n",
    "if Nvidia * Amd > 1000:\n",
    "    print(\"Su multiplicacion es:\", (Nvidia* Amd))\n",
    "else:\n",
    "    print(\"La suma es:\", (Nvidia+Amd))\n",
    "    "
   ]
  },
  {
   "cell_type": "code",
   "execution_count": null,
   "metadata": {},
   "outputs": [
    {
     "name": "stdout",
     "output_type": "stream",
     "text": [
      "Los 10 minutos son iguales a 600 segundos\n"
     ]
    }
   ],
   "source": [
    "# EJERCICIO 2. Dada una variable 'minutos' que almacena un número entero, realiza un programa que lo convierta a segundos\n",
    "\n",
    "minutos = int(input(\"Escribe los minutos a convertir\"))\n",
    "segundos = (minutos*60)\n",
    "\n",
    "print(\"Los\", minutos , \"minutos son iguales a\",segundos, \"segundos\")\n"
   ]
  },
  {
   "cell_type": "code",
   "execution_count": null,
   "metadata": {},
   "outputs": [
    {
     "name": "stdout",
     "output_type": "stream",
     "text": [
      "El perimetro del triangulo es: 104 cm\n",
      "El area del triangulo es: 578 cm\n",
      "Este es un triangulo isosceles\n"
     ]
    }
   ],
   "source": [
    "# EJERCICIO 3. Teniendo tres variables, 'lado1', 'lado2' y 'lado3' de un triangulo, \n",
    "# escribe un programa que calcule el perimetro y área. Además de verificar si es un triangulo isosceles, escaleno o equilatero.\n",
    "\n",
    "lado1 = 34\n",
    "lado2 = 34\n",
    "lado3 = 36\n",
    "perimetro = lado1 + lado2 + lado3\n",
    "area = int(lado1 * lado2 / 2)\n",
    "\n",
    "print(\"El perimetro del triangulo es:\", perimetro, \"cm\")\n",
    "print(\"El area del triangulo es:\", area, \"cm\")\n",
    "\n",
    "if lado1==lado2==lado3:\n",
    "    print(\"Este es un triangulo equilatero\")\n",
    "elif lado1!=lado2!=lado3:\n",
    "    print(\"Este es un triangulo escaleno\")\n",
    "else: \n",
    "    print(\"Este es un triangulo isosceles\")"
   ]
  },
  {
   "cell_type": "code",
   "execution_count": null,
   "metadata": {},
   "outputs": [],
   "source": [
    "# EJERCICIO 4. Escriba una declaración if que solicite el nombre del usuario a través de la función input(). \n",
    "# Si el nombre es \"Bond\", escriba \"Bienvenido a bordo 007\". De lo contrario, imprima \"Buenos días NOMBRE\". (Reemplazar Nombre con el nombre del usuario)\n",
    "\n",
    "usuario = str(input(\"Escribe el nombre de usuario\"))\n",
    "if usuario == (\"Bond\"):\n",
    "    print(\"Bienvenido a bordo 007\")\n",
    "else:\n",
    "    print(\"Buenos dias\", usuario)\n",
    "\n"
   ]
  },
  {
   "cell_type": "code",
   "execution_count": null,
   "metadata": {},
   "outputs": [
    {
     "name": "stdout",
     "output_type": "stream",
     "text": [
      "Seleccione una opción\n",
      "1. Imprimir hola\n",
      "2. Muéstrame un héroe\n",
      "3. Dame la hora\n",
      "4. Salir\n",
      "Seleccionaste la opcion 1\n",
      "Hola\n"
     ]
    }
   ],
   "source": [
    "# EJERCICIO 5. Muestra un menú con varias opciones y lee la variable 'opcion', imprime la opción seleccionada como 'Seleccionaste la opcion <opcion>'. Si la opción no está en las condiciones, imprime “Opción no válida”.\n",
    "#Ejemplo\n",
    "#Seleccione una opción\n",
    "#1. Imprimir hola\n",
    "#2. Muéstrame un héroe\n",
    "#3. Dame la hora\n",
    "#4. Salir\n",
    "\n",
    "import time\n",
    "print(\"Seleccione una opción\")\n",
    "print(\"1. Imprimir hola\")\n",
    "print(\"2. Muéstrame un héroe\")\n",
    "print(\"3. Dame la hora\")\n",
    "print(\"4. Salir\")\n",
    "\n",
    "opcion = str(input(\"Seleccione una opcion\"))\n",
    "if opcion == \"1\":\n",
    "    print(\"Seleccionaste la opcion\", opcion), print(\"Hola\")\n",
    "elif opcion == \"2\":\n",
    "    print(\"Seleccionaste la opcion\", opcion), print(\"Spiderman\")\n",
    "elif opcion == \"3\":\n",
    "    print(\"Seleccionaste la opcion\", opcion), print (\"Hora \" + time.strftime(\"%X\"))\n",
    "elif opcion == \"4\":\n",
    "    print(\"Seleccionaste la opcion\", opcion), print(\"Salir\")\n",
    "else: \n",
    "    print(\"Opcion no valida\")\n"
   ]
  },
  {
   "cell_type": "code",
   "execution_count": null,
   "metadata": {},
   "outputs": [
    {
     "name": "stdout",
     "output_type": "stream",
     "text": [
      "Se encuentran a la misma distancia\n"
     ]
    }
   ],
   "source": [
    "# EJERCICIO 6. Leer dos puntos (cuatro variables (una para cada punto) , 'x1' y 'y1') . Muestra cuál es el punto más cercano al origen. \n",
    "# Úselo para determinar la distancia desde el primer punto hasta el origen. d = ( x1  2 + y1  2) ** 0.5\n",
    "\n",
    "x1 = float(input(\"x1\"))\n",
    "y1 = float(input(\"y1\"))\n",
    "x2 = float(input(\"x2\"))\n",
    "y2 = float(input(\"y1\"))\n",
    "\n",
    "DistanciaPunto1 = ( x1 ** 2 + y1 ** 2) ** 0.5\n",
    "DistanciaPunto2 = ( x2 ** 2 + y2 ** 2) ** 0.5\n",
    "if DistanciaPunto1 < DistanciaPunto2:\n",
    "    print(\"El primer punto es mas cercano al origen:\", DistanciaPunto1)\n",
    "elif DistanciaPunto2 < DistanciaPunto1:\n",
    "    print(\"El segundo punto es mas cercano al origen:\", DistanciaPunto2)\n",
    "else:\n",
    "    print(\"Se encuentran a la misma distancia\")"
   ]
  },
  {
   "cell_type": "code",
   "execution_count": null,
   "metadata": {},
   "outputs": [],
   "source": [
    "x = [10,12,9,23,16,14]\n",
    "y= sum (x)  / len(x)"
   ]
  },
  {
   "cell_type": "code",
   "execution_count": null,
   "metadata": {},
   "outputs": [],
   "source": []
  },
  {
   "cell_type": "code",
   "execution_count": null,
   "metadata": {},
   "outputs": [],
   "source": []
  },
  {
   "cell_type": "code",
   "execution_count": null,
   "metadata": {},
   "outputs": [],
   "source": []
  },
  {
   "cell_type": "code",
   "execution_count": null,
   "metadata": {},
   "outputs": [],
   "source": []
  },
  {
   "cell_type": "code",
   "execution_count": null,
   "metadata": {},
   "outputs": [],
   "source": []
  },
  {
   "cell_type": "code",
   "execution_count": null,
   "metadata": {},
   "outputs": [],
   "source": []
  },
  {
   "cell_type": "code",
   "execution_count": null,
   "metadata": {},
   "outputs": [],
   "source": []
  },
  {
   "cell_type": "code",
   "execution_count": null,
   "metadata": {},
   "outputs": [],
   "source": []
  },
  {
   "cell_type": "code",
   "execution_count": null,
   "metadata": {},
   "outputs": [],
   "source": []
  },
  {
   "cell_type": "code",
   "execution_count": null,
   "metadata": {},
   "outputs": [],
   "source": []
  },
  {
   "cell_type": "code",
   "execution_count": null,
   "metadata": {},
   "outputs": [],
   "source": []
  },
  {
   "cell_type": "code",
   "execution_count": null,
   "metadata": {},
   "outputs": [],
   "source": []
  },
  {
   "cell_type": "code",
   "execution_count": null,
   "metadata": {},
   "outputs": [],
   "source": []
  },
  {
   "cell_type": "code",
   "execution_count": null,
   "metadata": {},
   "outputs": [],
   "source": []
  },
  {
   "cell_type": "code",
   "execution_count": null,
   "metadata": {},
   "outputs": [],
   "source": []
  },
  {
   "cell_type": "code",
   "execution_count": null,
   "metadata": {},
   "outputs": [],
   "source": []
  },
  {
   "cell_type": "code",
   "execution_count": null,
   "metadata": {},
   "outputs": [],
   "source": []
  },
  {
   "cell_type": "code",
   "execution_count": null,
   "metadata": {},
   "outputs": [],
   "source": []
  },
  {
   "cell_type": "code",
   "execution_count": null,
   "metadata": {},
   "outputs": [],
   "source": []
  }
 ],
 "metadata": {
  "interpreter": {
   "hash": "4702fe4cbf0d13e2255e9751c0481fb360b396efd948613168b88e4ea57f7bc1"
  },
  "kernelspec": {
   "display_name": "Python 3.10.4 ('venv': venv)",
   "language": "python",
   "name": "python3"
  },
  "language_info": {
   "codemirror_mode": {
    "name": "ipython",
    "version": 3
   },
   "file_extension": ".py",
   "mimetype": "text/x-python",
   "name": "python",
   "nbconvert_exporter": "python",
   "pygments_lexer": "ipython3",
   "version": "3.10.4"
  },
  "orig_nbformat": 4
 },
 "nbformat": 4,
 "nbformat_minor": 2
}
